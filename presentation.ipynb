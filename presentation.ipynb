{
 "cells": [
  {
   "cell_type": "code",
   "execution_count": 1,
   "metadata": {},
   "outputs": [
    {
     "data": {
      "text/plain": [
       "'C:\\\\Users\\\\Administrator\\\\Desktop\\\\course-computational-literary-analysis-master\\\\Homework'"
      ]
     },
     "execution_count": 1,
     "metadata": {},
     "output_type": "execute_result"
    }
   ],
   "source": [
    "pwd"
   ]
  },
  {
   "cell_type": "markdown",
   "metadata": {},
   "source": [
    "Hello everyone! It's my first time to do a presentation in English. So if you always hear some thing like emmm aeeee, please don't be impatient, Okay? If you are really bored with that, you can imagine that you are the next one who are going to make a presentation in Chinese, that will be fun.\n",
    "\n",
    "Well, let's talk about my project.\n",
    "\n",
    "Generally speaking, I did two things in my final project. \n",
    "\n",
    "The first is to analyze the difference of style of these presidents,like which one is most like a bear, which one is most like a monkey. That will be interesting. \n",
    "The second is to analyze how much the president of the United States cares about the world, the country, and the people has changed from 1921 to 2017 \n",
    "\n",
    "My method is Word Embedding and frequency of particular words. now let me show you some codes and plots "
   ]
  },
  {
   "cell_type": "markdown",
   "metadata": {},
   "source": [
    "First I wrote some to find the style of which president is most similar to what kind of animal."
   ]
  },
  {
   "cell_type": "markdown",
   "metadata": {},
   "source": [
    "![First 30 Books of Project Gutenberg](https://static.wixstatic.com/media/06b2f6_e21fb13a024d434b95e54b11dcebc349~mv2.png/v1/fill/w_740,h_227,al_c,usm_0.66_1.00_0.01/06b2f6_e21fb13a024d434b95e54b11dcebc349~mv2.png)"
   ]
  },
  {
   "cell_type": "markdown",
   "metadata": {},
   "source": [
    "So,Obama most like a bear, George Bush like a cat, Trump like a lion, that's interesting. So,I decided to make something visible"
   ]
  },
  {
   "cell_type": "markdown",
   "metadata": {},
   "source": [
    "![First 30 Books of Project Gutenberg](https://static.wixstatic.com/media/06b2f6_a35ff5adf84c4269b9bc7ea700987559~mv2.png/v1/fill/w_740,h_477,al_c,usm_0.66_1.00_0.01/06b2f6_a35ff5adf84c4269b9bc7ea700987559~mv2.png)"
   ]
  },
  {
   "cell_type": "markdown",
   "metadata": {},
   "source": [
    "This plot used frequency of words 'America', 'World', 'People', 'Country' to help us to analyze how much president care about these things. \n",
    "We can find that almost before 21st century, they talked more about 'world', less 'America'.But when comes to Trump, The frequency of 'Amercia' became extremely high. perhaps this reflects some of the changes in the international situation.\n",
    "\n",
    "And the proportions of 1969-Nixon and 1989-colinton are very differen with other. \n",
    "Let's use Word Embedding to analyze the overall situation.To test the hypothesis."
   ]
  },
  {
   "cell_type": "markdown",
   "metadata": {},
   "source": [
    "![First 30 Books of Project Gutenberg](https://static.wixstatic.com/media/06b2f6_4f4b7bf8ffcd4c719524d8ac69fda717~mv2.png/v1/fill/w_740,h_605,al_c,usm_0.66_1.00_0.01/06b2f6_4f4b7bf8ffcd4c719524d8ac69fda717~mv2.png)"
   ]
  },
  {
   "cell_type": "markdown",
   "metadata": {},
   "source": [
    "so that's not bad, the darker the coloer, the more different style with each other.\n",
    "And from this plot, we can have a whole view of the change and difference.\n",
    "From this polt, we can see 1929 Hoover was the most different president in this period. Maybe it had some thing to do with the worst economic crisis in the United States bewteen 1929 and 1933. And 1933 Roosevelt was quite distinguish from others too. And I think that why he was loved by the people. \n"
   ]
  },
  {
   "cell_type": "markdown",
   "metadata": {},
   "source": [
    "What's more, I really want to show some feeling about coding. when I was making the heat plot."
   ]
  },
  {
   "cell_type": "markdown",
   "metadata": {},
   "source": [
    "![First 30 Books of Project Gutenberg](https://static.wixstatic.com/media/06b2f6_f43f3e8953ad49ddbb7378f7838df7b9~mv2.png/v1/fill/w_740,h_339,al_c,usm_0.66_1.00_0.01/06b2f6_f43f3e8953ad49ddbb7378f7838df7b9~mv2.png)"
   ]
  },
  {
   "cell_type": "markdown",
   "metadata": {},
   "source": [
    "The one on top was write by me, and at the bottom one was I written by my friend. Same function,but his is shorter and looks more convient. Maybe that the difference between a python newbie and a python legend. So I think we can pay more time thinking about how to write a good code."
   ]
  },
  {
   "cell_type": "code",
   "execution_count": null,
   "metadata": {},
   "outputs": [],
   "source": []
  }
 ],
 "metadata": {
  "kernelspec": {
   "display_name": "Python 3",
   "language": "python",
   "name": "python3"
  },
  "language_info": {
   "codemirror_mode": {
    "name": "ipython",
    "version": 3
   },
   "file_extension": ".py",
   "mimetype": "text/x-python",
   "name": "python",
   "nbconvert_exporter": "python",
   "pygments_lexer": "ipython3",
   "version": "3.7.3"
  }
 },
 "nbformat": 4,
 "nbformat_minor": 2
}
