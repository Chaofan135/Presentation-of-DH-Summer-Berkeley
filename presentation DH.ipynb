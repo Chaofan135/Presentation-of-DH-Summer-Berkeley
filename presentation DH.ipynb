{
 "cells": [
  {
   "cell_type": "markdown",
   "metadata": {},
   "source": [
    "![First 30 Books of Project Gutenberg](https://static.wixstatic.com/media/06b2f6_e21fb13a024d434b95e54b11dcebc349~mv2.png/v1/fill/w_740,h_227,al_c,usm_0.66_1.00_0.01/06b2f6_e21fb13a024d434b95e54b11dcebc349~mv2.png)"
   ]
  },
  {
   "cell_type": "markdown",
   "metadata": {},
   "source": [
    "![First 30 Books of Project Gutenberg](https://static.wixstatic.com/media/06b2f6_a35ff5adf84c4269b9bc7ea700987559~mv2.png/v1/fill/w_740,h_477,al_c,usm_0.66_1.00_0.01/06b2f6_a35ff5adf84c4269b9bc7ea700987559~mv2.png)"
   ]
  },
  {
   "cell_type": "markdown",
   "metadata": {},
   "source": [
    "![First 30 Books of Project Gutenberg](https://static.wixstatic.com/media/06b2f6_4f4b7bf8ffcd4c719524d8ac69fda717~mv2.png/v1/fill/w_740,h_605,al_c,usm_0.66_1.00_0.01/06b2f6_4f4b7bf8ffcd4c719524d8ac69fda717~mv2.png)"
   ]
  },
  {
   "cell_type": "markdown",
   "metadata": {},
   "source": [
    "![First 30 Books of Project Gutenberg](https://static.wixstatic.com/media/06b2f6_f43f3e8953ad49ddbb7378f7838df7b9~mv2.png/v1/fill/w_740,h_339,al_c,usm_0.66_1.00_0.01/06b2f6_f43f3e8953ad49ddbb7378f7838df7b9~mv2.png)"
   ]
  }
 ],
 "metadata": {
  "kernelspec": {
   "display_name": "Python 3",
   "language": "python",
   "name": "python3"
  },
  "language_info": {
   "codemirror_mode": {
    "name": "ipython",
    "version": 3
   },
   "file_extension": ".py",
   "mimetype": "text/x-python",
   "name": "python",
   "nbconvert_exporter": "python",
   "pygments_lexer": "ipython3",
   "version": "3.7.3"
  }
 },
 "nbformat": 4,
 "nbformat_minor": 2
}
