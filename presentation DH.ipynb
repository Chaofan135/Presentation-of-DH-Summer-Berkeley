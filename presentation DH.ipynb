{
 "cells": [
  {
   "cell_type": "markdown",
   "metadata": {},
   "source": [
    "![First 30 Books of Project Gutenberg](https://static.wixstatic.com/media/06b2f6_e21fb13a024d434b95e54b11dcebc349~mv2.png/v1/fill/w_740,h_227,al_c,usm_0.66_1.00_0.01/06b2f6_e21fb13a024d434b95e54b11dcebc349~mv2.png)"
   ]
  },
  {
   "cell_type": "markdown",
   "metadata": {},
   "source": [
    "So,Obama most like a bear, George Bush like a cat, Trump like a lion, that's interesting. So,I decided to make something visible"
   ]
  },
  {
   "cell_type": "markdown",
   "metadata": {},
   "source": [
    "![First 30 Books of Project Gutenberg](https://static.wixstatic.com/media/06b2f6_a35ff5adf84c4269b9bc7ea700987559~mv2.png/v1/fill/w_740,h_477,al_c,usm_0.66_1.00_0.01/06b2f6_a35ff5adf84c4269b9bc7ea700987559~mv2.png)"
   ]
  },
  {
   "cell_type": "markdown",
   "metadata": {},
   "source": [
    "1969-Nixon, 1993-Clinton"
   ]
  },
  {
   "cell_type": "markdown",
   "metadata": {},
   "source": [
    "![First 30 Books of Project Gutenberg](https://static.wixstatic.com/media/06b2f6_b7c88f1c45c446f0b1f43364a9cbe77a~mv2.png/v1/fill/w_615,h_461,al_c,lg_1/06b2f6_b7c88f1c45c446f0b1f43364a9cbe77a~mv2.png)"
   ]
  },
  {
   "cell_type": "markdown",
   "metadata": {},
   "source": [
    "![First 30 Books of Project Gutenberg](https://static.wixstatic.com/media/06b2f6_f43f3e8953ad49ddbb7378f7838df7b9~mv2.png/v1/fill/w_740,h_339,al_c,usm_0.66_1.00_0.01/06b2f6_f43f3e8953ad49ddbb7378f7838df7b9~mv2.png)"
   ]
  }
 ],
 "metadata": {
  "kernelspec": {
   "display_name": "Python 3",
   "language": "python",
   "name": "python3"
  },
  "language_info": {
   "codemirror_mode": {
    "name": "ipython",
    "version": 3
   },
   "file_extension": ".py",
   "mimetype": "text/x-python",
   "name": "python",
   "nbconvert_exporter": "python",
   "pygments_lexer": "ipython3",
   "version": "3.7.3"
  }
 },
 "nbformat": 4,
 "nbformat_minor": 2
}
